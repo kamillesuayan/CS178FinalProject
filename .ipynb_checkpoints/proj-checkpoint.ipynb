{
 "cells": [
  {
   "cell_type": "code",
   "execution_count": 561,
   "metadata": {},
   "outputs": [],
   "source": [
    "results = []"
   ]
  },
  {
   "cell_type": "code",
   "execution_count": 562,
   "metadata": {},
   "outputs": [
    {
     "name": "stdout",
     "output_type": "stream",
     "text": [
      "Features ordered by Score: \n",
      "24 72.30120144068337\n",
      "7 47.62128875146852\n",
      "28 45.766219285324986\n"
     ]
    }
   ],
   "source": [
    "import pandas as pd\n",
    "import numpy as np\n",
    "import mltools as ml\n",
    "from sklearn.feature_selection import SelectKBest\n",
    "from sklearn.feature_selection import f_regression\n",
    "from sklearn.preprocessing import MinMaxScaler\n",
    "\n",
    "X_data = pd.read_csv('data/X_train.txt')\n",
    "Y_data = pd.read_csv('data/Y_train.txt')\n",
    "\n",
    "\n",
    "'''scaler = MinMaxScaler()\n",
    "scaler.fit(X_data)\n",
    "scaler.transform(X_data)'''\n",
    "\n",
    "# #apply SelectKBest class to extract top 10 best features\n",
    "X = X_data.iloc[:,:41]\n",
    "Y = Y_data.iloc[:,-1]\n",
    "\n",
    "\n",
    "bestfeatures = SelectKBest(score_func=f_classif, k=\"all\" )\n",
    "fit = bestfeatures.fit(X,Y)\n",
    "dfscores = pd.DataFrame(fit.scores_)\n",
    "dfcolumns = pd.DataFrame(X.columns)\n",
    "#concat two dataframes for better visualization \n",
    "featureScores = pd.concat([dfscores],axis=1)\n",
    "\n",
    "featureScores.columns = ['Score']  #naming the dataframe columns\n",
    "df = featureScores.nlargest(3,'Score')\n",
    "print(\"Features ordered by Score: \")\n",
    "top_features = []\n",
    "for index, row in df.iterrows():\n",
    "    top_features.append(index)\n",
    "    print(index, row['Score'])\n"
   ]
  },
  {
   "cell_type": "code",
   "execution_count": 563,
   "metadata": {},
   "outputs": [
    {
     "name": "stdout",
     "output_type": "stream",
     "text": [
      "1 0.4033670033670034\n",
      "2 0.3939393939393939\n",
      "5 0.38047138047138046\n",
      "10 0.3744107744107744\n",
      "50 0.3811447811447811\n",
      "100 0.37643097643097645\n",
      "200 0.3925925925925926\n",
      "Training and validation error as a function of K:\n"
     ]
    },
    {
     "data": {
      "image/png": "[encoded data removed]",
      "text/plain": [
       "<Figure size 360x288 with 1 Axes>"
      ]
     },
     "metadata": {
      "needs_background": "light"
     },
     "output_type": "display_data"
    }
   ],
   "source": [
    "import numpy as np\n",
    "np.random.seed(0)\n",
    "import mltools as ml\n",
    "import matplotlib.pyplot as plt \n",
    "\n",
    "X = np.genfromtxt('data/X_train.txt', delimiter=',')\n",
    "Y = np.genfromtxt('data/Y_train.txt', delimiter=',')\n",
    "Xa = []\n",
    "for a in top_features:\n",
    "    Xa.append(X[:,a])\n",
    "\n",
    "\n",
    "X,Y=ml.shuffleData(X,Y)\n",
    "X,_=ml.transforms.rescale(X)\n",
    "Xtr,Xva,Ytr,Yva=ml.splitData(X,Y,.80)\n",
    "Xtra = []\n",
    "Xvaa = []\n",
    "for a in top_features:\n",
    "    Xtra.append(Xtr[:,a])\n",
    "    Xvaa.append(Xva[:,a])\n",
    "\n",
    "    \n",
    "Xtra = np.asarray(Xtra).T\n",
    "Xvaa = np.asarray(Xvaa).T\n",
    "\n",
    "knn = ml.knn.knnClassify(Xtra,Ytr)\n",
    "k_values = [1,2,5,10,50,100,200]\n",
    "\n",
    "\n",
    "fig,ax=plt.subplots(1,1,figsize=(5,4))\n",
    "\n",
    "errTr=np.zeros(len(k_values))\n",
    "errVa=np.zeros(errTr.shape[0])\n",
    "# print(Xtra)\n",
    "for i,k in enumerate(k_values):\n",
    "    \n",
    "    knn.train(Xtra,Ytr,K=k)\n",
    "    YvaHat = knn.predict(Xvaa)\n",
    "\n",
    "    errTr[i]=knn.err(Xtra,Ytr)\n",
    "    errVa[i]=knn.err(Xvaa,Yva)\n",
    "    print(k, knn.err(Xvaa,Yva))\n",
    "    \n",
    "ax.semilogx(k_values,errTr,'r-',lw=3,label='Training')\n",
    "ax.semilogx(k_values,errVa,'g-',lw=3,label='Validation')\n",
    "ax.legend()\n",
    "ax.set_xlim(.8,200)\n",
    "ax.set_ylim(0,1)\n",
    "print(\"Training and validation error as a function of K:\")\n",
    "plt.show()\n",
    "\n"
   ]
  },
  {
   "cell_type": "code",
   "execution_count": 566,
   "metadata": {},
   "outputs": [
    {
     "data": {
      "image/png": "[encoded data removed]",
      "text/plain": [
       "<Figure size 432x288 with 1 Axes>"
      ]
     },
     "metadata": {
      "needs_background": "light"
     },
     "output_type": "display_data"
    },
    {
     "name": "stdout",
     "output_type": "stream",
     "text": [
      "AUC training Area: 0.7702\n",
      "AUC val Area: 0.6821\n"
     ]
    }
   ],
   "source": [
    "learner = ml.knn.knnClassify(Xtra,Ytr) # train a model using training data X,Y\n",
    "learner.train(Xtra,Ytr,K=10)\n",
    "fpr, tpr, tnr = learner.roc(Xtra, Ytr) #apply ROC on training data\n",
    "fpr2, tpr2, tnr2 = learner.roc(Xvaa, Yva) #apply ROC on validation data\n",
    "plt.plot(fpr, tpr, 'b-', label = \"training\", linewidth = 2) #plot training \n",
    "plt.plot(fpr2, tpr2, 'r-', label = \"val\", linewidth = 2) #plot validation\n",
    "plt.legend(fontsize=10, loc=0)\n",
    "plt.show()\n",
    "\n",
    "\n",
    "print('AUC training Area: %0.4f' %(learner.auc(Xtra, Ytr)))\n",
    "print('AUC val Area: %0.4f' %(learner.auc(Xvaa, Yva)))\n",
    "\n",
    "\n",
    "Xte = np.genfromtxt('data/X_test.txt', delimiter=',')\n",
    "Xtea = []\n",
    "\n",
    "for a in top_features:\n",
    "    Xtea.append(Xte[:,a])\n",
    "Xtea = np.asarray(Xtea).T\n",
    "results.append(learner.predict(Xtea))\n",
    "# print(learner.predict(Xtea))\n",
    "# Yte =np.vstack((np.arange(Xtea.shape[0]), learner.predict(Xtea))).T \n",
    "# Output a file with two columns, a row ID and a confidence in class 1: \n",
    "\n",
    "# np.savetxt('Y_project_submit.txt',Yte,'%d, %.2f',header='Id,Predicted',comments='',delimiter=',')\n"
   ]
  },
  {
   "cell_type": "markdown",
   "metadata": {},
   "source": [
    "## Random Forests"
   ]
  },
  {
   "cell_type": "code",
   "execution_count": 183,
   "metadata": {},
   "outputs": [
    {
     "name": "stdout",
     "output_type": "stream",
     "text": [
      "Features ordered by Score: \n",
      "24 72.30120144068337\n",
      "7 47.62128875146852\n",
      "28 45.766219285324986\n",
      "36 38.2709897718737\n",
      "34 35.95010458455116\n",
      "9 26.71539008167097\n",
      "15 15.81570899152354\n",
      "1 11.402169949278782\n",
      "2 5.73290423895162\n",
      "31 5.076459869496011\n"
     ]
    }
   ],
   "source": [
    "df = featureScores.nlargest(30,'Score')\n",
    "print(\"Features ordered by Score: \")\n",
    "top_features = []\n",
    "for index, row in df.iterrows():\n",
    "    top_features.append(index)\n",
    "    print(index, row['Score'])"
   ]
  },
  {
   "cell_type": "code",
   "execution_count": 567,
   "metadata": {},
   "outputs": [
    {
     "name": "stdout",
     "output_type": "stream",
     "text": [
      "01 members: 0.2489053553384978 train, 0.3872053872053872 valid\n",
      "05 members: 0.16941731222633882 train, 0.37643097643097645 valid\n",
      "10 members: 0.15695520377231392 train, 0.37643097643097645 valid\n",
      "15 members: 0.13270461434826542 train, 0.3542087542087542 valid\n",
      "25 members: 0.11889525092623779 train, 0.35218855218855216 valid\n",
      "50 members: 0.10643314247221286 train, 0.3616161616161616 valid\n"
     ]
    }
   ],
   "source": [
    "X = np.genfromtxt('data/X_train.txt', delimiter=',')\n",
    "Y = np.genfromtxt('data/Y_train.txt', delimiter=',')\n",
    "Xa = []\n",
    "for a in top_features:\n",
    "    Xa.append(X[:,a])\n",
    "\n",
    "\n",
    "X,Y=ml.shuffleData(X,Y)\n",
    "X,_=ml.transforms.rescale(X)\n",
    "Xtr,Xva,Ytr,Yva=ml.splitData(X,Y,.80)\n",
    "Xtra = []\n",
    "Xvaa = []\n",
    "for a in top_features:\n",
    "    Xtra.append(Xtr[:,a])\n",
    "    Xvaa.append(Xva[:,a])\n",
    "\n",
    "    \n",
    "Xtra = np.asarray(Xtra).T\n",
    "Xvaa = np.asarray(Xvaa).T\n",
    "\n",
    "n_bags = 50\n",
    "M=Xtra.shape[0]\n",
    "Mv=Xvaa.shape[0]\n",
    "rforest=[None]*n_bags\n",
    "YtHat=np.zeros((M,n_bags))\n",
    "YvHat=np.zeros((Mv,n_bags))\n",
    "for l in range(n_bags):\n",
    "    #print \"Training {}\".format(l)                \n",
    "    # uncomment if you want to monitorprogress...\n",
    "    Xi,Yi=ml.bootstrapData(Xtra,Ytr,M)\n",
    "    # draw this member's random sample of data\n",
    "    rforest[l]=ml.dtree.treeClassify()\n",
    "    #   and train the model on that draw\n",
    "    \n",
    "    rforest[l].train(Xi,Yi,minLeaf=4,maxDepth=30,nFeatures=20)\n",
    "    YtHat[:,l]=rforest[l].predict(Xtra)\n",
    "    # predict on training data\n",
    "    YvHat[:,l]=rforest[l].predict(Xvaa)\n",
    "    # Can use predictSoft instead\n",
    "\n",
    "for l in [1,5,10,15,25,50]:\n",
    "    # Make the prediction (mean of columns 0...l-1) and score the MSE:\n",
    "    # TODO: switch to error rate / AUC\n",
    "    errT=(Ytr!=(YtHat[:,0:l].mean(axis=1)>.5)).mean()\n",
    "    errV=(Yva!=(YvHat[:,0:l].mean(axis=1)>.5)).mean()\n",
    "    print(\"{:02d} members: {} train, {} valid\".format(l,errT,errV))"
   ]
  },
  {
   "cell_type": "code",
   "execution_count": 571,
   "metadata": {},
   "outputs": [],
   "source": [
    "# export to file / save\n",
    "Xte = np.genfromtxt('data/X_test.txt', delimiter=',')\n",
    "predict_te = np.zeros( (Xte.shape[0], n_bags) )\n",
    "\n",
    "for ct in range(n_bags):\n",
    "    predict_te[:,ct] = rforest[ct].predict(Xte)\n",
    "    # the combined prediction\n",
    "predict_te = np.mean(predict_te, axis=1) > 0.5\n",
    "\n",
    "results.append(predict_te)"
   ]
  },
  {
   "cell_type": "markdown",
   "metadata": {},
   "source": [
    "## Neural Networks"
   ]
  },
  {
   "cell_type": "code",
   "execution_count": 687,
   "metadata": {},
   "outputs": [
    {
     "data": {
      "text/plain": [
       "MLPClassifier(activation='logistic', alpha=0.0001, batch_size='auto',\n",
       "              beta_1=0.9, beta_2=0.999, early_stopping=False, epsilon=1e-08,\n",
       "              hidden_layer_sizes=(200, 150), learning_rate='constant',\n",
       "              learning_rate_init=0.001, max_iter=200, momentum=0.9,\n",
       "              n_iter_no_change=10, nesterovs_momentum=True, power_t=0.5,\n",
       "              random_state=1, shuffle=True, solver='sgd', tol=0.0001,\n",
       "              validation_fraction=0.1, verbose=False, warm_start=False)"
      ]
     },
     "execution_count": 687,
     "metadata": {},
     "output_type": "execute_result"
    }
   ],
   "source": [
    "import pandas as pd\n",
    "from matplotlib import pyplot as plt\n",
    "from sklearn.neural_network import MLPClassifier\n",
    "from sklearn.model_selection import train_test_split\n",
    "from sklearn.feature_selection import SelectKBest\n",
    "from sklearn.feature_selection import f_regression\n",
    "import mltools as ml\n",
    "import numpy as np\n",
    "from sklearn import preprocessing\n",
    "%matplotlib inline\n",
    "\n",
    "\n",
    "X_data = pd.read_csv('data/X_train.txt')\n",
    "Y_data = pd.read_csv('data/Y_train.txt')\n",
    "X = X_data.iloc[:,:41]\n",
    "Y = Y_data.iloc[:,-1]\n",
    "X_new = preprocessing.scale(X)\n",
    "\n",
    "# X_new = SelectKBest(f_regression,k=3).fit_transform(X,Y)\n",
    "\n",
    "Xtr,Xva,Ytr,Yva = train_test_split(X_new,Y,test_size=0.2,random_state=20)\n",
    "# play around with parameters:\n",
    "nn=MLPClassifier(activation=\"logistic\",solver=\"sgd\", alpha=.0001, hidden_layer_sizes=(200,150),random_state=1)\n",
    "nn.fit(Xtr,Ytr)"
   ]
  },
  {
   "cell_type": "code",
   "execution_count": 664,
   "metadata": {},
   "outputs": [
    {
     "name": "stdout",
     "output_type": "stream",
     "text": [
      "141\n",
      "[0. 0. 0. ... 0. 0. 1.]\n",
      "1485\n"
     ]
    }
   ],
   "source": [
    "pred=nn.predict(Xva)\n",
    "ct=0\n",
    "\n",
    "for i in pred:\n",
    "    if i == 1:\n",
    "        ct += 1\n",
    "        \n",
    "print(ct)\n",
    "print(pred)\n",
    "print(len(pred))"
   ]
  },
  {
   "cell_type": "code",
   "execution_count": 665,
   "metadata": {},
   "outputs": [],
   "source": [
    "a=Yva.values"
   ]
  },
  {
   "cell_type": "code",
   "execution_count": 666,
   "metadata": {},
   "outputs": [],
   "source": [
    "a\n",
    "count=0"
   ]
  },
  {
   "cell_type": "code",
   "execution_count": 667,
   "metadata": {},
   "outputs": [],
   "source": [
    "for i in range(len(pred)):\n",
    "    if pred[i]==a[i]:\n",
    "        count=count+1"
   ]
  },
  {
   "cell_type": "code",
   "execution_count": 668,
   "metadata": {},
   "outputs": [
    {
     "data": {
      "text/plain": [
       "767"
      ]
     },
     "execution_count": 668,
     "metadata": {},
     "output_type": "execute_result"
    }
   ],
   "source": [
    "count"
   ]
  },
  {
   "cell_type": "code",
   "execution_count": 669,
   "metadata": {},
   "outputs": [
    {
     "data": {
      "text/plain": [
       "0.5164983164983165"
      ]
     },
     "execution_count": 669,
     "metadata": {},
     "output_type": "execute_result"
    }
   ],
   "source": [
    "count/len(pred)"
   ]
  },
  {
   "cell_type": "code",
   "execution_count": 671,
   "metadata": {},
   "outputs": [],
   "source": [
    "Xte = np.genfromtxt('data/X_test.txt', delimiter=',')\n",
    "Xte = Xte[:,:-1]\n",
    "X_te_new = preprocessing.scale(Xte)\n",
    "pred=nn.predict(X_te_new)"
   ]
  },
  {
   "cell_type": "code",
   "execution_count": 672,
   "metadata": {},
   "outputs": [
    {
     "name": "stdout",
     "output_type": "stream",
     "text": [
      "[0. 0. 0. ... 0. 0. 0.]\n",
      "640\n"
     ]
    }
   ],
   "source": [
    "print(pred)\n",
    "ct=0\n",
    "\n",
    "for i in pred:\n",
    "    if i == 1:\n",
    "        ct += 1\n",
    "print(ct)"
   ]
  },
  {
   "cell_type": "code",
   "execution_count": 673,
   "metadata": {},
   "outputs": [],
   "source": [
    "results.append(pred)"
   ]
  },
  {
   "cell_type": "markdown",
   "metadata": {},
   "source": [
    "# Putting it together"
   ]
  },
  {
   "cell_type": "code",
   "execution_count": 686,
   "metadata": {},
   "outputs": [
    {
     "name": "stdout",
     "output_type": "stream",
     "text": [
      "[ True False False]\n"
     ]
    }
   ],
   "source": [
    "predict_te = np.zeros((Xte.shape[0],3))\n",
    "\n",
    "for ct in range(3):\n",
    "    predict_te[:,ct] = results[ct]\n",
    "predict_te = np.mean(results, axis=1) > 0.5"
   ]
  },
  {
   "cell_type": "code",
   "execution_count": null,
   "metadata": {},
   "outputs": [],
   "source": []
  }
 ],
 "metadata": {
  "kernelspec": {
   "display_name": "Python 3",
   "language": "python",
   "name": "python3"
  },
  "language_info": {
   "codemirror_mode": {
    "name": "ipython",
    "version": 3
   },
   "file_extension": ".py",
   "mimetype": "text/x-python",
   "name": "python",
   "nbconvert_exporter": "python",
   "pygments_lexer": "ipython3",
   "version": "3.7.4"
  }
 },
 "nbformat": 4,
 "nbformat_minor": 2
}
