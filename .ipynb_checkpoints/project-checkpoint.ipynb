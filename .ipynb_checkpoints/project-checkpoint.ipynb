{
 "cells": [
  {
   "cell_type": "code",
   "execution_count": 11,
   "metadata": {},
   "outputs": [
    {
     "name": "stdout",
     "output_type": "stream",
     "text": [
      "Non-negative features ordered by Score: \n",
      "62 6427.279217431667\n",
      "58 2664.0309597484893\n"
     ]
    }
   ],
   "source": [
    "import pandas as pd\n",
    "import numpy as np\n",
    "from sklearn.feature_selection import SelectKBest\n",
    "from sklearn.feature_selection import chi2\n",
    "# X = np.genfromtxt('data/X_train.txt', delimiter=',')\n",
    "# Y = np.genfromtxt('data/Y_train.txt', delimiter=',')\n",
    "X_data = pd.read_csv('data/X_train.txt')\n",
    "Y_data = pd.read_csv('data/Y_train.txt')\n",
    "\n",
    "# #apply SelectKBest class to extract top 10 best features\n",
    "X = X_data.iloc[:,41:]\n",
    "Y = Y_data.iloc[:,-1]\n",
    "\n",
    "bestfeatures = SelectKBest(score_func=chi2, k=\"all\" )\n",
    "fit = bestfeatures.fit(X,Y)\n",
    "dfscores = pd.DataFrame(fit.scores_)\n",
    "dfcolumns = pd.DataFrame(X.columns)\n",
    "#concat two dataframes for better visualization \n",
    "featureScores = pd.concat([dfscores],axis=1)\n",
    "\n",
    "featureScores.columns = ['Score']  #naming the dataframe columns\n",
    "df = featureScores.nlargest(2,'Score')\n",
    "print(\"Non-negative features ordered by Score: \")\n",
    "top_features = []\n",
    "for index, row in df.iterrows():\n",
    "    top_features.append(index+41)\n",
    "    print(index+41, row['Score'])\n"
   ]
  },
  {
   "cell_type": "code",
   "execution_count": null,
   "metadata": {},
   "outputs": [
    {
     "name": "stdout",
     "output_type": "stream",
     "text": [
      "0.1156955203772314\n"
     ]
    }
   ],
   "source": [
    "import numpy as np\n",
    "np.random.seed(0)\n",
    "import mltools as ml\n",
    "import matplotlib.pyplot as plt \n",
    "\n",
    "# np.random.seed(0)\n",
    "# nych=np.genfromtxt(\"data/nyc_housing.txt\",delimiter=None)\n",
    "\n",
    "X = np.genfromtxt('data/X_train.txt', delimiter=',')\n",
    "Y = np.genfromtxt('data/Y_train.txt', delimiter=',')\n",
    "Xa = []\n",
    "for a in top_features:\n",
    "    Xa.append(X[:,a])\n",
    "\n",
    "\n",
    "X,Y=ml.shuffleData(X,Y)\n",
    "Xtr,Xva,Ytr,Yva=ml.splitData(X,Y,.80)\n",
    "# Xtra,Xva,Ytra,Yva=ml.splitData(Xa,Y,.75)\n",
    "Xtra = []\n",
    "Xvaa = []\n",
    "for a in top_features:\n",
    "    Xtra.append(Xtr[:,a])\n",
    "    Xvaa.append(Xva[:,a])\n",
    "\n",
    "    \n",
    "Xtra = np.asarray(Xtra).T\n",
    "Xvaa = np.asarray(Xvaa).T\n",
    "# print(np.asarray(Xtra).T.shape)\n",
    "# print(len(Xtra))\n",
    "\n",
    "knn = ml.knn.knnClassify(Xtra,Ytr)\n",
    "k_values = [1,2,5,10,50,100,200]\n",
    "\n",
    "\n",
    "fig,ax=plt.subplots(1,1,figsize=(5,4))\n",
    "\n",
    "errTr=np.zeros(len(k_values))\n",
    "errVa=np.zeros(errTr.shape[0])\n",
    "# print(Xtra)\n",
    "for i,k in enumerate(k_values):\n",
    "    \n",
    "    knn.train(Xtra,Ytr,K=k)\n",
    "    YvaHat = knn.predict(Xvaa)\n",
    "#     print(k, YvaHat, len(YvaHat))\n",
    "\n",
    "\n",
    "    errTr[i]=knn.err(Xtra,Ytr)\n",
    "    errVa[i]=knn.err(Xvaa,Yva)\n",
    "    print(knn.err(Xtra,Ytr))\n",
    "    \n",
    "ax.semilogx(k_values,errTr,'r-',lw=3,label='Training')\n",
    "ax.semilogx(k_values,errVa,'g-',lw=3,label='Validation')\n",
    "ax.legend()\n",
    "ax.set_xlim(.8,200)\n",
    "ax.set_ylim(0,1)\n",
    "print(\"Training and validation error as a function of K:\")\n",
    "plt.show()\n",
    "\n"
   ]
  },
  {
   "cell_type": "code",
   "execution_count": null,
   "metadata": {},
   "outputs": [],
   "source": [
    "learner = ml.knn.knnClassify(Xtra,Ytr) # train a model using training data X,Y\n",
    "learner.train(Xtra,Ytr,K=5)\n",
    "fpr, tpr, tnr = learner.roc(Xtra, Ytr) #apply ROC on training data\n",
    "fpr2, tpr2, tnr2 = learner.roc(Xvaa, Yva) #apply ROC on validation data\n",
    "plt.plot(fpr, tpr, 'b-', label = \"training\", linewidth = 2) #plot training \n",
    "plt.plot(fpr2, tpr2, 'r-', label = \"val\", linewidth = 2) #plot validation\n",
    "plt.legend(fontsize=10, loc=0)\n",
    "plt.show()\n",
    "\n",
    "\n",
    "print('AUC training Area: %0.4f' %(learner.auc(Xtra, Ytr)))\n",
    "print('AUC val Area: %0.4f' %(learner.auc(Xvaa, Yva)))\n",
    "\n",
    "\n",
    "\n",
    "    \n",
    "# Xtra = np.asarray(Xtra).T\n",
    "# Xvaa = np.asarray(Xvaa).T\n",
    "Xte = np.genfromtxt('data/X_test.txt', delimiter=',')\n",
    "Xtea = []\n",
    "\n",
    "for a in top_features:\n",
    "    Xtea.append(Xte[:,a])\n",
    "Xtea = np.asarray(Xtea).T\n",
    "\n",
    "# print(Xtea.shape)\n",
    "\n",
    "Yte =np.vstack((np.arange(Xtea.shape[0]), learner.predict(Xtea))).T \n",
    "# print(Yte.shape)\n",
    "# Output a file with two columns, a row ID and a confidence in class 1: \n",
    "\n",
    "np.savetxt('Y_project_submit.txt',Yte,'%d, %.2f',header='Id,Predicted',comments='',delimiter=',')\n"
   ]
  },
  {
   "cell_type": "code",
   "execution_count": null,
   "metadata": {},
   "outputs": [],
   "source": [
    "a = np.asarray([[1,2,4],[1,2,3]])\n",
    "print(a.shape)\n",
    "\n",
    "print(Yte)"
   ]
  },
  {
   "cell_type": "code",
   "execution_count": null,
   "metadata": {},
   "outputs": [],
   "source": []
  }
 ],
 "metadata": {
  "kernelspec": {
   "display_name": "Python 3",
   "language": "python",
   "name": "python3"
  },
  "language_info": {
   "codemirror_mode": {
    "name": "ipython",
    "version": 3
   },
   "file_extension": ".py",
   "mimetype": "text/x-python",
   "name": "python",
   "nbconvert_exporter": "python",
   "pygments_lexer": "ipython3",
   "version": "3.7.4"
  }
 },
 "nbformat": 4,
 "nbformat_minor": 2
}
