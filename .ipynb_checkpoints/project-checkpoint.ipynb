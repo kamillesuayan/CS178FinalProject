{
 "cells": [
  {
   "cell_type": "code",
   "execution_count": 60,
   "metadata": {},
   "outputs": [
    {
     "name": "stdout",
     "output_type": "stream",
     "text": [
      "Non-negative features ordered by Score: \n",
      "56 251.0596379353445\n",
      "24 72.30120144068331\n",
      "69 50.21023976590273\n",
      "72 50.21023976590273\n",
      "85 50.21023976590273\n"
     ]
    }
   ],
   "source": [
    "# df = featureScores.nlargest(5,'Score')\n",
    "# print(\"Non-negative features ordered by Score: \")\n",
    "# top_features = []\n",
    "# for index, row in df.iterrows():\n",
    "#     top_features.append(index)\n",
    "#     print(index, row['Score'])"
   ]
  },
  {
   "cell_type": "code",
   "execution_count": 61,
   "metadata": {},
   "outputs": [
    {
     "name": "stdout",
     "output_type": "stream",
     "text": [
      "Non-negative features ordered by Score: \n",
      "56 251.0596379353445\n",
      "24 72.30120144068331\n",
      "69 50.21023976590273\n"
     ]
    }
   ],
   "source": [
    "#skit\n",
    "import pandas as pd\n",
    "import numpy as np\n",
    "import mltools as ml\n",
    "from sklearn.feature_selection import SelectKBest\n",
    "from sklearn.feature_selection import chi2, f_classif\n",
    "from sklearn.preprocessing import MinMaxScaler\n",
    "\n",
    "\n",
    "# X = np.genfromtxt('data/X_train.txt', delimiter=',')\n",
    "# Y = np.genfromtxt('data/Y_train.txt', delimiter=',')\n",
    "X_data = pd.read_csv('data/X_train.txt')\n",
    "Y_data = pd.read_csv('data/Y_train.txt')\n",
    "X_data,_=ml.transforms.rescale(X_data)\n",
    "# scalar = MinMaxScaler()\n",
    "# scaler.fit(X_data)\n",
    "# scalar.trans\n",
    "\n",
    "# #apply SelectKBest class to extract top 10 best features\n",
    "# X = X_data.iloc[:,41:]\n",
    "\n",
    "X = X_data.iloc[:,:-1]\n",
    "Y = Y_data.iloc[:,-1]\n",
    "\n",
    "\n",
    "bestfeatures = SelectKBest(score_func=f_classif, k=\"all\" )\n",
    "fit = bestfeatures.fit(X,Y)\n",
    "dfscores = pd.DataFrame(fit.scores_)\n",
    "dfcolumns = pd.DataFrame(X.columns)\n",
    "#concat two dataframes for better visualization \n",
    "featureScores = pd.concat([dfscores],axis=1)\n",
    "\n",
    "featureScores.columns = ['Score']  #naming the dataframe columns\n",
    "df = featureScores.nlargest(3,'Score')\n",
    "print(\"Non-negative features ordered by Score: \")\n",
    "top_features = []\n",
    "for index, row in df.iterrows():\n",
    "    top_features.append(index)\n",
    "    print(index, row['Score'])\n"
   ]
  },
  {
   "cell_type": "code",
   "execution_count": 42,
   "metadata": {},
   "outputs": [
    {
     "name": "stdout",
     "output_type": "stream",
     "text": [
      "0.47878787878787876\n",
      "0.4882154882154882\n",
      "0.48484848484848486\n",
      "0.49023569023569025\n",
      "0.4666666666666667\n",
      "0.45521885521885525\n",
      "0.43905723905723903\n",
      "Training and validation error as a function of K:\n"
     ]
    },
    {
     "data": {
      "image/png": "[encoded data removed]",
      "text/plain": [
       "<Figure size 360x288 with 1 Axes>"
      ]
     },
     "metadata": {},
     "output_type": "display_data"
    }
   ],
   "source": [
    "import numpy as np\n",
    "np.random.seed(0)\n",
    "import mltools as ml\n",
    "import matplotlib.pyplot as plt \n",
    "\n",
    "# np.random.seed(0)\n",
    "# nych=np.genfromtxt(\"data/nyc_housing.txt\",delimiter=None)\n",
    "\n",
    "X = np.genfromtxt('data/X_train.txt', delimiter=',')\n",
    "Y = np.genfromtxt('data/Y_train.txt', delimiter=',')\n",
    "Xa = []\n",
    "for a in top_features:\n",
    "    Xa.append(X[:,a])\n",
    "\n",
    "\n",
    "X,Y=ml.shuffleData(X,Y)\n",
    "X,_=ml.transforms.rescale(X)\n",
    "Xtr,Xva,Ytr,Yva=ml.splitData(X,Y,.80)\n",
    "# Xtra,Xva,Ytra,Yva=ml.splitData(Xa,Y,.75)\n",
    "Xtra = []\n",
    "Xvaa = []\n",
    "for a in top_features:\n",
    "    Xtra.append(Xtr[:,a])\n",
    "    Xvaa.append(Xva[:,a])\n",
    "\n",
    "    \n",
    "Xtra = np.asarray(Xtra).T\n",
    "Xvaa = np.asarray(Xvaa).T\n",
    "# print(np.asarray(Xtra).T.shape)\n",
    "# print(len(Xtra))\n",
    "\n",
    "knn = ml.knn.knnClassify(Xtra,Ytr)\n",
    "k_values = [1,2,5,10,50,100,200]\n",
    "\n",
    "\n",
    "fig,ax=plt.subplots(1,1,figsize=(5,4))\n",
    "\n",
    "errTr=np.zeros(len(k_values))\n",
    "errVa=np.zeros(errTr.shape[0])\n",
    "# print(Xtra)\n",
    "for i,k in enumerate(k_values):\n",
    "    \n",
    "    knn.train(Xtra,Ytr,K=k)\n",
    "    YvaHat = knn.predict(Xvaa)\n",
    "#     print(k, YvaHat, len(YvaHat))\n",
    "\n",
    "\n",
    "    errTr[i]=knn.err(Xtra,Ytr)\n",
    "    errVa[i]=knn.err(Xvaa,Yva)\n",
    "#     print(knn.err(Xtra,Ytr))\n",
    "    print(knn.err(Xvaa,Yva))\n",
    "    \n",
    "ax.semilogx(k_values,errTr,'r-',lw=3,label='Training')\n",
    "ax.semilogx(k_values,errVa,'g-',lw=3,label='Validation')\n",
    "ax.legend()\n",
    "ax.set_xlim(.8,200)\n",
    "ax.set_ylim(0,1)\n",
    "print(\"Training and validation error as a function of K:\")\n",
    "plt.show()\n",
    "\n"
   ]
  },
  {
   "cell_type": "code",
   "execution_count": 43,
   "metadata": {},
   "outputs": [
    {
     "data": {
      "image/png": "[encoded data removed]",
      "text/plain": [
       "<Figure size 432x288 with 1 Axes>"
      ]
     },
     "metadata": {},
     "output_type": "display_data"
    },
    {
     "name": "stdout",
     "output_type": "stream",
     "text": [
      "AUC training Area: 0.6175\n",
      "AUC val Area: 0.5788\n"
     ]
    }
   ],
   "source": [
    "learner = ml.knn.knnClassify(Xtra,Ytr) # train a model using training data X,Y\n",
    "learner.train(Xtra,Ytr,K=200)\n",
    "fpr, tpr, tnr = learner.roc(Xtra, Ytr) #apply ROC on training data\n",
    "fpr2, tpr2, tnr2 = learner.roc(Xvaa, Yva) #apply ROC on validation data\n",
    "plt.plot(fpr, tpr, 'b-', label = \"training\", linewidth = 2) #plot training \n",
    "plt.plot(fpr2, tpr2, 'r-', label = \"val\", linewidth = 2) #plot validation\n",
    "plt.legend(fontsize=10, loc=0)\n",
    "plt.show()\n",
    "\n",
    "\n",
    "print('AUC training Area: %0.4f' %(learner.auc(Xtra, Ytr)))\n",
    "print('AUC val Area: %0.4f' %(learner.auc(Xvaa, Yva)))\n",
    "\n",
    "\n",
    "\n",
    "    \n",
    "# Xtra = np.asarray(Xtra).T\n",
    "# Xvaa = np.asarray(Xvaa).T\n",
    "Xte = np.genfromtxt('data/X_test.txt', delimiter=',')\n",
    "Xtea = []\n",
    "\n",
    "for a in top_features:\n",
    "    Xtea.append(Xte[:,a])\n",
    "Xtea = np.asarray(Xtea).T\n",
    "\n",
    "# print(Xtea.shape)\n",
    "\n",
    "Yte =np.vstack((np.arange(Xtea.shape[0]), learner.predict(Xtea))).T\n",
    "# print(Yte.shape)\n",
    "# Output a file with two columns, a row ID and a confidence in class 1: \n",
    "\n",
    "np.savetxt('Y_project_submit.txt',Yte,'%d, %.2f',header='Id,Predicted',comments='',delimiter=',')\n"
   ]
  },
  {
   "cell_type": "code",
   "execution_count": 33,
   "metadata": {},
   "outputs": [
    {
     "name": "stdout",
     "output_type": "stream",
     "text": [
      "(2, 3)\n",
      "[[0.000e+00 0.000e+00]\n",
      " [1.000e+00 0.000e+00]\n",
      " [2.000e+00 1.000e+00]\n",
      " ...\n",
      " [7.419e+03 0.000e+00]\n",
      " [7.420e+03 1.000e+00]\n",
      " [7.421e+03 1.000e+00]]\n"
     ]
    }
   ],
   "source": [
    "a = np.asarray([[1,2,4],[1,2,3]])\n",
    "print(a.shape)\n",
    "\n",
    "print(Yte)"
   ]
  },
  {
   "cell_type": "markdown",
   "metadata": {},
   "source": [
    "## Random Forest"
   ]
  },
  {
   "cell_type": "code",
   "execution_count": 68,
   "metadata": {},
   "outputs": [
    {
     "name": "stdout",
     "output_type": "stream",
     "text": [
      "Non-negative features ordered by Score: \n",
      "56 251.0596379353445\n",
      "24 72.30120144068331\n",
      "69 50.21023976590273\n",
      "72 50.21023976590273\n",
      "85 50.21023976590273\n",
      "91 50.21023976590273\n",
      "100 50.21023976590273\n",
      "7 47.621288751453875\n",
      "73 46.87898479323226\n",
      "75 46.87898479323226\n",
      "76 46.87898479323226\n",
      "77 46.87898479323226\n",
      "78 46.87898479323226\n",
      "79 46.87898479323226\n",
      "83 46.87898479323226\n",
      "84 46.87898479323226\n",
      "86 46.87898479323226\n",
      "87 46.87898479323226\n",
      "90 46.87898479323226\n",
      "92 46.87898479323226\n",
      "95 46.87898479323226\n",
      "96 46.87898479323226\n",
      "97 46.87898479323226\n",
      "99 46.87898479323226\n",
      "102 46.87898479323226\n",
      "103 46.87898479323226\n",
      "104 46.87898479323226\n",
      "105 46.87898479323226\n",
      "28 45.76621928532463\n",
      "70 40.943365511550105\n",
      "71 40.943365511550105\n",
      "80 40.943365511550105\n",
      "82 40.943365511550105\n",
      "93 40.943365511550105\n",
      "98 40.943365511550105\n",
      "36 38.27098977187413\n",
      "34 35.950104584552975\n",
      "9 26.715390081669753\n",
      "74 25.04863211866412\n",
      "89 25.04863211866412\n",
      "101 25.04863211866412\n",
      "51 23.165744234631497\n",
      "94 17.248388316306023\n",
      "15 15.815708991523408\n",
      "42 12.478677524977371\n",
      "1 11.402169949278276\n",
      "58 9.015666594908732\n",
      "52 8.31716156892993\n",
      "62 8.303620939160071\n",
      "68 6.213399028634845\n"
     ]
    }
   ],
   "source": [
    "df = featureScores.nlargest(50,'Score')\n",
    "print(\"Non-negative features ordered by Score: \")\n",
    "top_features = []\n",
    "for index, row in df.iterrows():\n",
    "    top_features.append(index)\n",
    "    print(index, row['Score'])"
   ]
  },
  {
   "cell_type": "code",
   "execution_count": 74,
   "metadata": {},
   "outputs": [
    {
     "name": "stdout",
     "output_type": "stream",
     "text": [
      "01 members: 0.2062984169754126 train, 0.3966329966329966 valid\n",
      "05 members: 0.09582350959919164 train, 0.3771043771043771 valid\n",
      "10 members: 0.07039407207814079 train, 0.35084175084175084 valid\n",
      "15 members: 0.03940720781407881 train, 0.3488215488215488 valid\n"
     ]
    }
   ],
   "source": [
    "X = np.genfromtxt('data/X_train.txt', delimiter=',')\n",
    "Y = np.genfromtxt('data/Y_train.txt', delimiter=',')\n",
    "Xa = []\n",
    "for a in top_features:\n",
    "    Xa.append(X[:,a])\n",
    "\n",
    "\n",
    "X,Y=ml.shuffleData(X,Y)\n",
    "X,_=ml.transforms.rescale(X)\n",
    "Xtr,Xva,Ytr,Yva=ml.splitData(X,Y,.80)\n",
    "# Xtra,Xva,Ytra,Yva=ml.splitData(Xa,Y,.75)\n",
    "Xtra = []\n",
    "Xvaa = []\n",
    "for a in top_features:\n",
    "    Xtra.append(Xtr[:,a])\n",
    "    Xvaa.append(Xva[:,a])\n",
    "\n",
    "    \n",
    "Xtra = np.asarray(Xtra).T\n",
    "Xvaa = np.asarray(Xvaa).T\n",
    "M = Xtra.shape[0]\n",
    "Mv = Xvaa.shape[0]\n",
    "rforest=[None]*60\n",
    "\n",
    "Xa = []\n",
    "for a in top_features:\n",
    "    Xa.append(X[:,a])\n",
    "\n",
    "    \n",
    "YtHat = np.zeros((M,60))\n",
    "YvHat = np.zeros((Mv,60))\n",
    "\n",
    "for l in range(25):\n",
    "    #print \"Training {}\".format(l)                # uncomment if you want to monitorprogress...\n",
    "    Xi,Yi=ml.bootstrapData(Xtra,Ytr,M)# draw this member's random sampleof data\n",
    "    rforest[l]=ml.dtree.treeClassify()#   and train the model on that draw\n",
    "    rforest[l].train(Xi,Yi,minLeaf = 4,maxDepth=60, nFeatures = 35)\n",
    "    YtHat[:,l]=rforest[l].predict(Xtra)# predict on training data\n",
    "    YvHat[:,l]=rforest[l].predict(Xvaa)#   and validation data & save results\n",
    "    #print('.')\n",
    "# Can use predictSoft instead\n",
    "print\n",
    "for l in[1,5,10,15]:\n",
    "    # Make the prediction (mean of columns 0...l-1) and score the MSE:# TODO: switch to error rate / AUC\n",
    "    errT=(Ytr!=(YtHat[:,0:l].mean(axis=1)>.5)).mean()\n",
    "    errV=(Yva!=(YvHat[:,0:l].mean(axis=1)>.5)).mean()\n",
    "    print(\"{:02d} members: {} train, {} valid\".format(l,errT,errV))"
   ]
  },
  {
   "cell_type": "code",
   "execution_count": 57,
   "metadata": {},
   "outputs": [
    {
     "name": "stdout",
     "output_type": "stream",
     "text": [
      "AUC for All Data: 0.6445853049807196\n"
     ]
    }
   ],
   "source": [
    "learner=ml.dtree.treeClassify(X,Y,minParent=bestMinParent)\n",
    "Xte=np.genfromtxt('data/X_test.txt',delimiter=',')\n",
    "Yte=np.vstack((np.arange(Xte.shape[0]),learner.predictSoft(Xte)[:,1])).T\n",
    "# Output a file with two columns, a row ID and a confidence in class 1:\n",
    "np.savetxt('Y_submit.txt',Yte,'%d, %.2f',header='ID,Prob1',comments='',delimiter=',')"
   ]
  },
  {
   "cell_type": "code",
   "execution_count": null,
   "metadata": {},
   "outputs": [],
   "source": []
  }
 ],
 "metadata": {
  "kernelspec": {
   "display_name": "Python 3",
   "language": "python",
   "name": "python3"
  },
  "language_info": {
   "codemirror_mode": {
    "name": "ipython",
    "version": 3
   },
   "file_extension": ".py",
   "mimetype": "text/x-python",
   "name": "python",
   "nbconvert_exporter": "python",
   "pygments_lexer": "ipython3",
   "version": "3.6.5"
  }
 },
 "nbformat": 4,
 "nbformat_minor": 2
}
