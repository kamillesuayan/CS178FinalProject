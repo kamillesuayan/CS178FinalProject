{
 "cells": [
  {
   "cell_type": "code",
   "execution_count": 103,
   "metadata": {},
   "outputs": [
    {
     "name": "stdout",
     "output_type": "stream",
     "text": [
      "Non-negative features ordered by Score: \n",
      "62 6427.279217431667\n",
      "58 2664.0309597484893\n",
      "64 1180.0869918662725\n",
      "59 1088.081352270312\n"
     ]
    }
   ],
   "source": [
    "import pandas as pd\n",
    "import numpy as np\n",
    "from sklearn.feature_selection import SelectKBest\n",
    "from sklearn.feature_selection import chi2\n",
    "# X = np.genfromtxt('data/X_train.txt', delimiter=',')\n",
    "# Y = np.genfromtxt('data/Y_train.txt', delimiter=',')\n",
    "X_data = pd.read_csv('data/X_train.txt')\n",
    "Y_data = pd.read_csv('data/Y_train.txt')\n",
    "\n",
    "# #apply SelectKBest class to extract top 10 best features\n",
    "X = X_data.iloc[:,41:]\n",
    "Y = Y_data.iloc[:,-1]\n",
    "\n",
    "bestfeatures = SelectKBest(score_func=chi2, k=\"all\" )\n",
    "fit = bestfeatures.fit(X,Y)\n",
    "dfscores = pd.DataFrame(fit.scores_)\n",
    "dfcolumns = pd.DataFrame(X.columns)\n",
    "#concat two dataframes for better visualization \n",
    "featureScores = pd.concat([dfscores],axis=1)\n",
    "\n",
    "featureScores.columns = ['Score']  #naming the dataframe columns\n",
    "df = featureScores.nlargest(4,'Score')\n",
    "print(\"Non-negative features ordered by Score: \")\n",
    "top_features = []\n",
    "for index, row in df.iterrows():\n",
    "    top_features.append(index+41)\n",
    "    print(index+41, row['Score'])\n"
   ]
  },
  {
   "cell_type": "code",
   "execution_count": 104,
   "metadata": {},
   "outputs": [
    {
     "name": "stdout",
     "output_type": "stream",
     "text": [
      "0.005927788755164361\n",
      "0.2518412071133465\n",
      "0.3102209448536016\n",
      "0.3718340219148554\n",
      "0.4370396982216634\n",
      "0.4571582539967667\n",
      "0.4718879109035387\n",
      "Training and validation error as a function of K:\n"
     ]
    },
    {
     "data": {
      "image/png": "[encoded data removed]",
      "text/plain": [
       "<Figure size 360x288 with 1 Axes>"
      ]
     },
     "metadata": {},
     "output_type": "display_data"
    }
   ],
   "source": [
    "import numpy as np\n",
    "np.random.seed(0)\n",
    "import mltools as ml\n",
    "import matplotlib.pyplot as plt \n",
    "\n",
    "# np.random.seed(0)\n",
    "# nych=np.genfromtxt(\"data/nyc_housing.txt\",delimiter=None)\n",
    "\n",
    "X = np.genfromtxt('data/X_train.txt', delimiter=',')\n",
    "Y = np.genfromtxt('data/Y_train.txt', delimiter=',')\n",
    "Xa = []\n",
    "for a in top_features:\n",
    "    Xa.append(X[:,a])\n",
    "\n",
    "\n",
    "X,Y=ml.shuffleData(X,Y)\n",
    "Xtr,Xva,Ytr,Yva=ml.splitData(X,Y,.75)\n",
    "# Xtra,Xva,Ytra,Yva=ml.splitData(Xa,Y,.75)\n",
    "Xtra = []\n",
    "Xvaa = []\n",
    "for a in top_features:\n",
    "    Xtra.append(Xtr[:,a])\n",
    "    Xvaa.append(Xva[:,a])\n",
    "\n",
    "    \n",
    "Xtra = np.asarray(Xtra).T\n",
    "Xvaa = np.asarray(Xvaa).T\n",
    "# print(np.asarray(Xtra).T.shape)\n",
    "# print(len(Xtra))\n",
    "\n",
    "knn = ml.knn.knnClassify(Xtra,Ytr)\n",
    "k_values = [1,2,5,10,50,100,200]\n",
    "\n",
    "\n",
    "fig,ax=plt.subplots(1,1,figsize=(5,4))\n",
    "\n",
    "errTr=np.zeros(len(k_values))\n",
    "errVa=np.zeros(errTr.shape[0])\n",
    "# print(Xtra)\n",
    "for i,k in enumerate(k_values):\n",
    "    \n",
    "    knn.train(Xtra,Ytr,K=k)\n",
    "    YvaHat = knn.predict(Xvaa)\n",
    "#     print(k, YvaHat, len(YvaHat))\n",
    "\n",
    "\n",
    "    errTr[i]=knn.err(Xtra,Ytr)\n",
    "    errVa[i]=knn.err(Xvaa,Yva)\n",
    "    print(knn.err(Xtra,Ytr))\n",
    "    \n",
    "ax.semilogx(k_values,errTr,'r-',lw=3,label='Training')\n",
    "ax.semilogx(k_values,errVa,'g-',lw=3,label='Validation')\n",
    "ax.legend()\n",
    "ax.set_xlim(.8,200)\n",
    "ax.set_ylim(0,1)\n",
    "print(\"Training and validation error as a function of K:\")\n",
    "plt.show()\n",
    "\n"
   ]
  },
  {
   "cell_type": "code",
   "execution_count": 107,
   "metadata": {},
   "outputs": [
    {
     "data": {
      "image/png": "[encoded data removed]",
      "text/plain": [
       "<Figure size 432x288 with 1 Axes>"
      ]
     },
     "metadata": {},
     "output_type": "display_data"
    },
    {
     "name": "stdout",
     "output_type": "stream",
     "text": [
      "AUC training Area: 0.7505\n",
      "AUC val Area: 0.5159\n"
     ]
    },
    {
     "ename": "ValueError",
     "evalue": "Training and prediction data must have same number of features",
     "output_type": "error",
     "traceback": [
      "\u001b[0;31m---------------------------------------------------------------------------\u001b[0m",
      "\u001b[0;31mValueError\u001b[0m                                Traceback (most recent call last)",
      "\u001b[0;32m<ipython-input-107-8ff7c56a2d42>\u001b[0m in \u001b[0;36m<module>\u001b[0;34m()\u001b[0m\n\u001b[1;32m     62\u001b[0m \u001b[0;31m# print(Xtea.shape)\u001b[0m\u001b[0;34m\u001b[0m\u001b[0;34m\u001b[0m\u001b[0m\n\u001b[1;32m     63\u001b[0m \u001b[0;34m\u001b[0m\u001b[0m\n\u001b[0;32m---> 64\u001b[0;31m \u001b[0mYte\u001b[0m \u001b[0;34m=\u001b[0m\u001b[0mnp\u001b[0m\u001b[0;34m.\u001b[0m\u001b[0mvstack\u001b[0m\u001b[0;34m(\u001b[0m\u001b[0;34m(\u001b[0m\u001b[0mnp\u001b[0m\u001b[0;34m.\u001b[0m\u001b[0marange\u001b[0m\u001b[0;34m(\u001b[0m\u001b[0mXtea\u001b[0m\u001b[0;34m.\u001b[0m\u001b[0mshape\u001b[0m\u001b[0;34m[\u001b[0m\u001b[0;36m0\u001b[0m\u001b[0;34m]\u001b[0m\u001b[0;34m)\u001b[0m\u001b[0;34m,\u001b[0m \u001b[0mlearner\u001b[0m\u001b[0;34m.\u001b[0m\u001b[0mpredict\u001b[0m\u001b[0;34m(\u001b[0m\u001b[0mXtea\u001b[0m\u001b[0;34m)\u001b[0m\u001b[0;34m)\u001b[0m\u001b[0;34m)\u001b[0m\u001b[0;34m.\u001b[0m\u001b[0mT\u001b[0m\u001b[0;34m\u001b[0m\u001b[0m\n\u001b[0m\u001b[1;32m     65\u001b[0m \u001b[0;31m# print(Yte.shape)\u001b[0m\u001b[0;34m\u001b[0m\u001b[0;34m\u001b[0m\u001b[0m\n\u001b[1;32m     66\u001b[0m \u001b[0;31m# Output a file with two columns, a row ID and a confidence in class 1:\u001b[0m\u001b[0;34m\u001b[0m\u001b[0;34m\u001b[0m\u001b[0m\n",
      "\u001b[0;32m~/Desktop/CS 178/178-hw4-code/mltools/base.py\u001b[0m in \u001b[0;36mpredict\u001b[0;34m(self, X)\u001b[0m\n\u001b[1;32m     45\u001b[0m     \u001b[0mimplemented\u001b[0m\u001b[0;34m;\u001b[0m \u001b[0mby\u001b[0m \u001b[0mdefault\u001b[0m \u001b[0mit\u001b[0m \u001b[0muses\u001b[0m \u001b[0mpredictSoft\u001b[0m \u001b[0;32mand\u001b[0m \u001b[0mconverts\u001b[0m \u001b[0mto\u001b[0m \u001b[0mthe\u001b[0m \u001b[0mmost\u001b[0m \u001b[0mlikely\u001b[0m \u001b[0;32mclass\u001b[0m\u001b[0;34m.\u001b[0m\u001b[0;34m\u001b[0m\u001b[0m\n\u001b[1;32m     46\u001b[0m     \"\"\"\n\u001b[0;32m---> 47\u001b[0;31m     \u001b[0midx\u001b[0m \u001b[0;34m=\u001b[0m \u001b[0mnp\u001b[0m\u001b[0;34m.\u001b[0m\u001b[0margmax\u001b[0m\u001b[0;34m(\u001b[0m \u001b[0mself\u001b[0m\u001b[0;34m.\u001b[0m\u001b[0mpredictSoft\u001b[0m\u001b[0;34m(\u001b[0m\u001b[0mX\u001b[0m\u001b[0;34m)\u001b[0m \u001b[0;34m,\u001b[0m \u001b[0maxis\u001b[0m\u001b[0;34m=\u001b[0m\u001b[0;36m1\u001b[0m \u001b[0;34m)\u001b[0m      \u001b[0;31m# find most likely class (index)\u001b[0m\u001b[0;34m\u001b[0m\u001b[0m\n\u001b[0m\u001b[1;32m     48\u001b[0m     \u001b[0;32mreturn\u001b[0m \u001b[0mnp\u001b[0m\u001b[0;34m.\u001b[0m\u001b[0masarray\u001b[0m\u001b[0;34m(\u001b[0m\u001b[0mself\u001b[0m\u001b[0;34m.\u001b[0m\u001b[0mclasses\u001b[0m\u001b[0;34m)\u001b[0m\u001b[0;34m[\u001b[0m\u001b[0midx\u001b[0m\u001b[0;34m]\u001b[0m                 \u001b[0;31m# convert to saved class values\u001b[0m\u001b[0;34m\u001b[0m\u001b[0m\n\u001b[1;32m     49\u001b[0m \u001b[0;34m\u001b[0m\u001b[0m\n",
      "\u001b[0;32m~/Desktop/CS 178/178-hw4-code/mltools/knn.py\u001b[0m in \u001b[0;36mpredictSoft\u001b[0;34m(self, X)\u001b[0m\n\u001b[1;32m     86\u001b[0m         \u001b[0mmte\u001b[0m\u001b[0;34m,\u001b[0m\u001b[0mnte\u001b[0m \u001b[0;34m=\u001b[0m \u001b[0marr\u001b[0m\u001b[0;34m(\u001b[0m\u001b[0mX\u001b[0m\u001b[0;34m)\u001b[0m\u001b[0;34m.\u001b[0m\u001b[0mshape\u001b[0m                 \u001b[0;31m# get size of test data\u001b[0m\u001b[0;34m\u001b[0m\u001b[0m\n\u001b[1;32m     87\u001b[0m         \u001b[0;32mif\u001b[0m \u001b[0mnte\u001b[0m \u001b[0;34m!=\u001b[0m \u001b[0mntr\u001b[0m\u001b[0;34m:\u001b[0m\u001b[0;34m\u001b[0m\u001b[0m\n\u001b[0;32m---> 88\u001b[0;31m             \u001b[0;32mraise\u001b[0m \u001b[0mValueError\u001b[0m\u001b[0;34m(\u001b[0m\u001b[0;34m'Training and prediction data must have same number of features'\u001b[0m\u001b[0;34m)\u001b[0m\u001b[0;34m\u001b[0m\u001b[0m\n\u001b[0m\u001b[1;32m     89\u001b[0m \u001b[0;34m\u001b[0m\u001b[0m\n\u001b[1;32m     90\u001b[0m         \u001b[0mnum_classes\u001b[0m \u001b[0;34m=\u001b[0m \u001b[0mlen\u001b[0m\u001b[0;34m(\u001b[0m\u001b[0mself\u001b[0m\u001b[0;34m.\u001b[0m\u001b[0mclasses\u001b[0m\u001b[0;34m)\u001b[0m\u001b[0;34m\u001b[0m\u001b[0m\n",
      "\u001b[0;31mValueError\u001b[0m: Training and prediction data must have same number of features"
     ]
    }
   ],
   "source": [
    "learner = ml.knn.knnClassify(Xtra,Ytr) # train a model using training data X,Y\n",
    "learner.train(Xtra,Ytr,K=5)\n",
    "fpr, tpr, tnr = learner.roc(Xtra, Ytr) #apply ROC on training data\n",
    "fpr2, tpr2, tnr2 = learner.roc(Xvaa, Yva) #apply ROC on validation data\n",
    "plt.plot(fpr, tpr, 'b-', label = \"training\", linewidth = 2) #plot training \n",
    "plt.plot(fpr2, tpr2, 'r-', label = \"val\", linewidth = 2) #plot validation\n",
    "plt.legend(fontsize=10, loc=0)\n",
    "plt.show()\n",
    "\n",
    "\n",
    "print('AUC training Area: %0.4f' %(learner.auc(Xtra, Ytr)))\n",
    "print('AUC val Area: %0.4f' %(learner.auc(Xvaa, Yva)))\n",
    "\n",
    "\n",
    "\n",
    "    \n",
    "# Xtra = np.asarray(Xtra).T\n",
    "# Xvaa = np.asarray(Xvaa).T\n",
    "Xte = np.genfromtxt('data/X_test.txt', delimiter=',')\n",
    "Xtea = []\n",
    "\n",
    "for a in top_features:\n",
    "    Xtea.append(Xte[:,a])\n",
    "Xtea = np.asarray(Xte).T\n",
    "\n",
    "# print(Xtea.shape)\n",
    "\n",
    "Yte =np.vstack((np.arange(Xtea.shape[0]), learner.predict(Xtea))).T \n",
    "# print(Yte.shape)\n",
    "# Output a file with two columns, a row ID and a confidence in class 1: \n",
    "\n",
    "np.savetxt('Y_project_submit.txt',Yte,'%d, %.2f',header='Id,Predicted',comments='',delimiter=',')\n"
   ]
  },
  {
   "cell_type": "code",
   "execution_count": 96,
   "metadata": {},
   "outputs": [
    {
     "name": "stdout",
     "output_type": "stream",
     "text": [
      "(2, 3)\n",
      "[1. 1. 0. ... 0. 1. 0.]\n"
     ]
    }
   ],
   "source": [
    "a = np.asarray([[1,2,4],[1,2,3]])\n",
    "print(a.shape)\n",
    "\n",
    "print(Yte)"
   ]
  },
  {
   "cell_type": "code",
   "execution_count": null,
   "metadata": {},
   "outputs": [],
   "source": []
  }
 ],
 "metadata": {
  "kernelspec": {
   "display_name": "Python 3",
   "language": "python",
   "name": "python3"
  },
  "language_info": {
   "codemirror_mode": {
    "name": "ipython",
    "version": 3
   },
   "file_extension": ".py",
   "mimetype": "text/x-python",
   "name": "python",
   "nbconvert_exporter": "python",
   "pygments_lexer": "ipython3",
   "version": "3.6.5"
  }
 },
 "nbformat": 4,
 "nbformat_minor": 2
}
