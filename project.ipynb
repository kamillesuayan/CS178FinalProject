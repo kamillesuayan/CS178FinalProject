{
 "cells": [
  {
   "cell_type": "code",
   "execution_count": 32,
   "metadata": {},
   "outputs": [
    {
     "name": "stdout",
     "output_type": "stream",
     "text": [
      "Features ordered by Score: \n",
      "56 251.0596379353373\n",
      "24 72.30120144068337\n"
     ]
    }
   ],
   "source": [
    "import pandas as pd\n",
    "import numpy as np\n",
    "import mltools as ml\n",
    "from sklearn.feature_selection import SelectKBest\n",
    "from sklearn.feature_selection import f_classif\n",
    "from sklearn.preprocessing import MinMaxScaler\n",
    "\n",
    "X_data = pd.read_csv('data/X_train.txt')\n",
    "Y_data = pd.read_csv('data/Y_train.txt')\n",
    "\n",
    "\n",
    "'''scaler = MinMaxScaler()\n",
    "scaler.fit(X_data)\n",
    "scaler.transform(X_data)'''\n",
    "\n",
    "# #apply SelectKBest class to extract top 10 best features\n",
    "X = X_data.iloc[:,:-1]\n",
    "Y = Y_data.iloc[:,-1]\n",
    "\n",
    "\n",
    "bestfeatures = SelectKBest(score_func=f_classif, k=\"all\" )\n",
    "fit = bestfeatures.fit(X,Y)\n",
    "dfscores = pd.DataFrame(fit.scores_)\n",
    "dfcolumns = pd.DataFrame(X.columns)\n",
    "#concat two dataframes for better visualization \n",
    "featureScores = pd.concat([dfscores],axis=1)\n",
    "\n",
    "featureScores.columns = ['Score']  #naming the dataframe columns\n",
    "df = featureScores.nlargest(2,'Score')\n",
    "print(\"Features ordered by Score: \")\n",
    "top_features = []\n",
    "for index, row in df.iterrows():\n",
    "    top_features.append(index)\n",
    "    print(index, row['Score'])\n"
   ]
  },
  {
   "cell_type": "code",
   "execution_count": 33,
   "metadata": {},
   "outputs": [
    {
     "name": "stdout",
     "output_type": "stream",
     "text": [
      "1 0.4835016835016835\n",
      "2 0.49427609427609426\n",
      "5 0.4861952861952862\n",
      "10 0.47878787878787876\n",
      "50 0.4713804713804714\n",
      "100 0.4585858585858586\n",
      "200 0.43434343434343436\n",
      "Training and validation error as a function of K:\n"
     ]
    },
    {
     "data": {
      "image/png": "[encoded data removed]",
      "text/plain": [
       "<Figure size 360x288 with 1 Axes>"
      ]
     },
     "metadata": {
      "needs_background": "light"
     },
     "output_type": "display_data"
    }
   ],
   "source": [
    "import numpy as np\n",
    "np.random.seed(0)\n",
    "import mltools as ml\n",
    "import matplotlib.pyplot as plt \n",
    "\n",
    "X = np.genfromtxt('data/X_train.txt', delimiter=',')\n",
    "Y = np.genfromtxt('data/Y_train.txt', delimiter=',')\n",
    "Xa = []\n",
    "for a in top_features:\n",
    "    Xa.append(X[:,a])\n",
    "\n",
    "\n",
    "X,Y=ml.shuffleData(X,Y)\n",
    "X,_=ml.transforms.rescale(X)\n",
    "Xtr,Xva,Ytr,Yva=ml.splitData(X,Y,.80)\n",
    "Xtra = []\n",
    "Xvaa = []\n",
    "for a in top_features:\n",
    "    Xtra.append(Xtr[:,a])\n",
    "    Xvaa.append(Xva[:,a])\n",
    "\n",
    "    \n",
    "Xtra = np.asarray(Xtra).T\n",
    "Xvaa = np.asarray(Xvaa).T\n",
    "\n",
    "knn = ml.knn.knnClassify(Xtra,Ytr)\n",
    "k_values = [1,2,5,10,50,100,200]\n",
    "\n",
    "\n",
    "fig,ax=plt.subplots(1,1,figsize=(5,4))\n",
    "\n",
    "errTr=np.zeros(len(k_values))\n",
    "errVa=np.zeros(errTr.shape[0])\n",
    "# print(Xtra)\n",
    "for i,k in enumerate(k_values):\n",
    "    \n",
    "    knn.train(Xtra,Ytr,K=k)\n",
    "    YvaHat = knn.predict(Xvaa)\n",
    "\n",
    "    errTr[i]=knn.err(Xtra,Ytr)\n",
    "    errVa[i]=knn.err(Xvaa,Yva)\n",
    "    print(k, knn.err(Xvaa,Yva))\n",
    "    \n",
    "ax.semilogx(k_values,errTr,'r-',lw=3,label='Training')\n",
    "ax.semilogx(k_values,errVa,'g-',lw=3,label='Validation')\n",
    "ax.legend()\n",
    "ax.set_xlim(.8,200)\n",
    "ax.set_ylim(0,1)\n",
    "print(\"Training and validation error as a function of K:\")\n",
    "plt.show()\n",
    "\n"
   ]
  },
  {
   "cell_type": "code",
   "execution_count": 34,
   "metadata": {},
   "outputs": [
    {
     "data": {
      "image/png": "[encoded data removed]",
      "text/plain": [
       "<Figure size 432x288 with 1 Axes>"
      ]
     },
     "metadata": {
      "needs_background": "light"
     },
     "output_type": "display_data"
    },
    {
     "name": "stdout",
     "output_type": "stream",
     "text": [
      "AUC training Area: 0.6156\n",
      "AUC val Area: 0.5819\n"
     ]
    }
   ],
   "source": [
    "learner = ml.knn.knnClassify(Xtra,Ytr) # train a model using training data X,Y\n",
    "learner.train(Xtra,Ytr,K=200)\n",
    "fpr, tpr, tnr = learner.roc(Xtra, Ytr) #apply ROC on training data\n",
    "fpr2, tpr2, tnr2 = learner.roc(Xvaa, Yva) #apply ROC on validation data\n",
    "plt.plot(fpr, tpr, 'b-', label = \"training\", linewidth = 2) #plot training \n",
    "plt.plot(fpr2, tpr2, 'r-', label = \"val\", linewidth = 2) #plot validation\n",
    "plt.legend(fontsize=10, loc=0)\n",
    "plt.show()\n",
    "\n",
    "\n",
    "print('AUC training Area: %0.4f' %(learner.auc(Xtra, Ytr)))\n",
    "print('AUC val Area: %0.4f' %(learner.auc(Xvaa, Yva)))\n",
    "\n",
    "\n",
    "Xte = np.genfromtxt('data/X_test.txt', delimiter=',')\n",
    "Xtea = []\n",
    "\n",
    "for a in top_features:\n",
    "    Xtea.append(Xte[:,a])\n",
    "Xtea = np.asarray(Xtea).T\n",
    "\n",
    "Yte =np.vstack((np.arange(Xtea.shape[0]), learner.predict(Xtea))).T \n",
    "\n",
    "# Output a file with two columns, a row ID and a confidence in class 1: \n",
    "\n",
    "np.savetxt('Y_project_submit.txt',Yte,'%d, %.2f',header='Id,Predicted',comments='',delimiter=',')\n"
   ]
  },
  {
   "cell_type": "code",
   "execution_count": 14,
   "metadata": {},
   "outputs": [
    {
     "name": "stdout",
     "output_type": "stream",
     "text": [
      "(2, 3)\n",
      "[[0.000e+00 1.000e+00]\n",
      " [1.000e+00 0.000e+00]\n",
      " [2.000e+00 1.000e+00]\n",
      " ...\n",
      " [7.419e+03 1.000e+00]\n",
      " [7.420e+03 1.000e+00]\n",
      " [7.421e+03 0.000e+00]]\n"
     ]
    }
   ],
   "source": [
    "a = np.asarray([[1,2,4],[1,2,3]])\n",
    "print(a.shape)\n",
    "\n",
    "print(Yte)"
   ]
  },
  {
   "cell_type": "markdown",
   "metadata": {},
   "source": [
    "## Random Forests"
   ]
  },
  {
   "cell_type": "code",
   "execution_count": null,
   "metadata": {},
   "outputs": [],
   "source": []
  }
 ],
 "metadata": {
  "kernelspec": {
   "display_name": "Python 3",
   "language": "python",
   "name": "python3"
  },
  "language_info": {
   "codemirror_mode": {
    "name": "ipython",
    "version": 3
   },
   "file_extension": ".py",
   "mimetype": "text/x-python",
   "name": "python",
   "nbconvert_exporter": "python",
   "pygments_lexer": "ipython3",
   "version": "3.7.4"
  }
 },
 "nbformat": 4,
 "nbformat_minor": 2
}
