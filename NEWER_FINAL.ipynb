{
 "cells": [
  {
   "cell_type": "code",
   "execution_count": 1,
   "metadata": {},
   "outputs": [],
   "source": [
    "results = []"
   ]
  },
  {
   "cell_type": "markdown",
   "metadata": {},
   "source": [
    "# KNN\n",
    "## Feature Selection"
   ]
  },
  {
   "cell_type": "code",
   "execution_count": 2,
   "metadata": {},
   "outputs": [
    {
     "name": "stdout",
     "output_type": "stream",
     "text": [
      "Features ordered by Score: \n",
      "24 72.30120144068351\n",
      "7 47.62128875145446\n",
      "28 45.76621928532493\n"
     ]
    }
   ],
   "source": [
    "import pandas as pd\n",
    "import numpy as np\n",
    "import mltools as ml\n",
    "from sklearn.feature_selection import SelectKBest\n",
    "from sklearn.feature_selection import f_regression\n",
    "\n",
    "X_data = pd.read_csv('data/X_train.txt')\n",
    "Y_data = pd.read_csv('data/Y_train.txt')\n",
    "\n",
    "# #apply SelectKBest class to extract top 10 best features\n",
    "X = X_data.iloc[:,:41]\n",
    "Y = Y_data.iloc[:,-1]\n",
    "\n",
    "bestfeatures = SelectKBest(score_func=f_regression, k=\"all\" )\n",
    "fit = bestfeatures.fit(X,Y)\n",
    "dfscores = pd.DataFrame(fit.scores_)\n",
    "dfcolumns = pd.DataFrame(X.columns)\n",
    "#concat two dataframes for better visualization \n",
    "featureScores = pd.concat([dfscores],axis=1)\n",
    "\n",
    "featureScores.columns = ['Score']  #naming the dataframe columns\n",
    "df = featureScores.nlargest(3,'Score')\n",
    "print(\"Features ordered by Score: \")\n",
    "top_features = []\n",
    "for index, row in df.iterrows():\n",
    "    top_features.append(index)\n",
    "    print(index, row['Score'])"
   ]
  },
  {
   "cell_type": "code",
   "execution_count": 3,
   "metadata": {},
   "outputs": [
    {
     "name": "stdout",
     "output_type": "stream",
     "text": [
      "1 0.4033670033670034\n",
      "2 0.3939393939393939\n",
      "5 0.38047138047138046\n",
      "10 0.3744107744107744\n",
      "50 0.3811447811447811\n",
      "100 0.37643097643097645\n",
      "200 0.3925925925925926\n",
      "Training and validation error as a function of K:\n"
     ]
    },
    {
     "data": {
      "image/png": "[encoded data removed]",
      "text/plain": [
       "<Figure size 360x288 with 1 Axes>"
      ]
     },
     "metadata": {
      "needs_background": "light"
     },
     "output_type": "display_data"
    }
   ],
   "source": [
    "import numpy as np\n",
    "np.random.seed(0)\n",
    "import mltools as ml\n",
    "import matplotlib.pyplot as plt \n",
    "\n",
    "X = np.genfromtxt('data/X_train.txt', delimiter=',')\n",
    "Y = np.genfromtxt('data/Y_train.txt', delimiter=',')\n",
    "Xa = []\n",
    "for a in top_features:\n",
    "    Xa.append(X[:,a])\n",
    "\n",
    "\n",
    "X,Y=ml.shuffleData(X,Y)\n",
    "X,_=ml.transforms.rescale(X)\n",
    "Xtr,Xva,Ytr,Yva=ml.splitData(X,Y,.80)\n",
    "Xtra = []\n",
    "Xvaa = []\n",
    "for a in top_features:\n",
    "    Xtra.append(Xtr[:,a])\n",
    "    Xvaa.append(Xva[:,a])\n",
    "\n",
    "    \n",
    "Xtra = np.asarray(Xtra).T\n",
    "Xvaa = np.asarray(Xvaa).T\n",
    "\n",
    "knn = ml.knn.knnClassify(Xtra,Ytr)\n",
    "k_values = [1,2,5,10,50,100,200]\n",
    "\n",
    "\n",
    "fig,ax=plt.subplots(1,1,figsize=(5,4))\n",
    "\n",
    "errTr=np.zeros(len(k_values))\n",
    "errVa=np.zeros(errTr.shape[0])\n",
    "# print(Xtra)\n",
    "for i,k in enumerate(k_values):\n",
    "    \n",
    "    knn.train(Xtra,Ytr,K=k)\n",
    "    YvaHat = knn.predict(Xvaa)\n",
    "\n",
    "    errTr[i]=knn.err(Xtra,Ytr)\n",
    "    errVa[i]=knn.err(Xvaa,Yva)\n",
    "    print(k, knn.err(Xvaa,Yva))\n",
    "    \n",
    "ax.semilogx(k_values,errTr,'r-',lw=3,label='Training')\n",
    "ax.semilogx(k_values,errVa,'g-',lw=3,label='Validation')\n",
    "ax.legend()\n",
    "ax.set_xlim(.8,200)\n",
    "ax.set_ylim(0,1)\n",
    "print(\"Training and validation error as a function of K:\")\n",
    "plt.show()"
   ]
  },
  {
   "cell_type": "code",
   "execution_count": 4,
   "metadata": {},
   "outputs": [
    {
     "data": {
      "image/png": "[encoded data removed]",
      "text/plain": [
       "<Figure size 432x288 with 1 Axes>"
      ]
     },
     "metadata": {
      "needs_background": "light"
     },
     "output_type": "display_data"
    },
    {
     "name": "stdout",
     "output_type": "stream",
     "text": [
      "AUC training Area: 0.7702\n",
      "AUC val Area: 0.6821\n"
     ]
    }
   ],
   "source": [
    "learner = ml.knn.knnClassify(Xtra,Ytr) # train a model using training data X,Y\n",
    "learner.train(Xtra,Ytr,K=10)\n",
    "fpr, tpr, tnr = learner.roc(Xtra, Ytr) #apply ROC on training data\n",
    "fpr2, tpr2, tnr2 = learner.roc(Xvaa, Yva) #apply ROC on validation data\n",
    "plt.plot(fpr, tpr, 'b-', label = \"training\", linewidth = 2) #plot training \n",
    "plt.plot(fpr2, tpr2, 'r-', label = \"val\", linewidth = 2) #plot validation\n",
    "plt.legend(fontsize=10, loc=0)\n",
    "plt.show()\n",
    "\n",
    "\n",
    "print('AUC training Area: %0.4f' %(learner.auc(Xtra, Ytr)))\n",
    "print('AUC val Area: %0.4f' %(learner.auc(Xvaa, Yva)))\n",
    "\n",
    "\n",
    "Xte = np.genfromtxt('data/X_test.txt', delimiter=',')\n",
    "Xtea = []\n",
    "\n",
    "for a in top_features:\n",
    "    Xtea.append(Xte[:,a])\n",
    "Xtea = np.asarray(Xtea).T"
   ]
  },
  {
   "cell_type": "code",
   "execution_count": 5,
   "metadata": {},
   "outputs": [],
   "source": [
    "results.append(learner.predict(Xtea))"
   ]
  },
  {
   "cell_type": "markdown",
   "metadata": {},
   "source": [
    "## Random Forests"
   ]
  },
  {
   "cell_type": "code",
   "execution_count": 6,
   "metadata": {},
   "outputs": [
    {
     "name": "stdout",
     "output_type": "stream",
     "text": [
      "0.6498316498316499\n",
      "ones 2332\n",
      "total length 7422\n",
      "[0. 0. 1. ... 0. 0. 0.]\n"
     ]
    }
   ],
   "source": [
    "import pandas as pd\n",
    "import numpy as np\n",
    "import mltools as ml\n",
    "from sklearn.feature_selection import SelectKBest\n",
    "from sklearn.feature_selection import f_regression  \n",
    "from sklearn.ensemble import RandomForestClassifier\n",
    "from sklearn.model_selection import train_test_split\n",
    "\n",
    "X_data = pd.read_csv('data/X_train.txt')\n",
    "Y_data = pd.read_csv('data/Y_train.txt')\n",
    "X_data,_=ml.transforms.rescale(X_data)\n",
    "X = X_data.iloc[:,:41]\n",
    "Y = Y_data.iloc[:,-1]\n",
    "\n",
    "\n",
    "bestfeatures = SelectKBest(f_regression,k=\"all\")\n",
    "fit = bestfeatures.fit(X,Y)\n",
    "dfscores = pd.DataFrame(fit.scores_)\n",
    "dfcolumns = pd.DataFrame(X.columns)\n",
    "featureScores = pd.concat([dfscores],axis=1)\n",
    "\n",
    "featureScores.columns = ['Score']  #naming the dataframe columns\n",
    "df = featureScores.nlargest(30,'Score')\n",
    "# print(\"Non-negative features ordered by Score: \")\n",
    "top_features = []\n",
    "for index, row in df.iterrows():\n",
    "    top_features.append(index)\n",
    "    # print(index, row['Score'])\n",
    "\n",
    "X = X_data.iloc[:,:41]\n",
    "Y = Y_data.iloc[:,-1]\n",
    "\n",
    "X_new = SelectKBest(f_regression,k=30).fit_transform(X,Y)\n",
    "\n",
    "Xtr, Xte, Ytr, Yte = train_test_split(X_new,Y,test_size=0.2)\n",
    "\n",
    "model = RandomForestClassifier(max_depth=11,n_estimators=50, random_state=0)\n",
    "model.fit(Xtr, Ytr)\n",
    "\n",
    "print(model.score(Xte, Yte))\n",
    "\n",
    "Xtes = np.genfromtxt('data/X_test.txt', delimiter=',')\n",
    "Xtea = []\n",
    "\n",
    "for a in top_features:\n",
    "    Xtea.append(Xtes[:,a])\n",
    "Xtea = np.asarray(Xtea).T\n",
    "\n",
    "\n",
    "one = 0\n",
    "pred=model.predict(Xtea)\n",
    "for i in pred:\n",
    "    if i == 1:\n",
    "        one+= 1\n",
    "print(\"ones\", one)\n",
    "print(\"total length\", len(pred))\n",
    "print(pred)"
   ]
  },
  {
   "cell_type": "code",
   "execution_count": 7,
   "metadata": {},
   "outputs": [],
   "source": [
    "results.append(model.predict(Xtea))"
   ]
  },
  {
   "cell_type": "code",
   "execution_count": 8,
   "metadata": {},
   "outputs": [
    {
     "name": "stdout",
     "output_type": "stream",
     "text": [
      "0.5723905723905723\n",
      "ones 3955\n",
      "total length 7422\n",
      "[1. 1. 0. ... 0. 1. 1.]\n"
     ]
    }
   ],
   "source": [
    "import pandas as pd\n",
    "import numpy as np\n",
    "import mltools as ml\n",
    "from sklearn.feature_selection import SelectKBest\n",
    "from sklearn.feature_selection import f_classif \n",
    "from sklearn.ensemble import RandomForestClassifier\n",
    "from sklearn.model_selection import train_test_split\n",
    "\n",
    "X_data = pd.read_csv('data/X_train.txt')\n",
    "Y_data = pd.read_csv('data/Y_train.txt')\n",
    "X_data,_=ml.transforms.rescale(X_data)\n",
    "X = X_data.iloc[:,41:69]\n",
    "Y = Y_data.iloc[:,-1]\n",
    "\n",
    "\n",
    "bestfeatures = SelectKBest(f_classif,k=\"all\")\n",
    "fit = bestfeatures.fit(X,Y)\n",
    "dfscores = pd.DataFrame(fit.scores_)\n",
    "dfcolumns = pd.DataFrame(X.columns)\n",
    "featureScores = pd.concat([dfscores],axis=1)\n",
    "\n",
    "featureScores.columns = ['Score']  #naming the dataframe columns\n",
    "df = featureScores.nlargest(20,'Score')\n",
    "# print(\"Non-negative features ordered by Score: \")\n",
    "top_features = []\n",
    "for index, row in df.iterrows():\n",
    "    top_features.append(index)\n",
    "    # print(index, row['Score'])\n",
    "\n",
    "X = X_data.iloc[:,41:69]\n",
    "Y = Y_data.iloc[:,-1]\n",
    "\n",
    "X_new = SelectKBest(f_classif,k=20).fit_transform(X,Y)\n",
    "\n",
    "Xtr, Xte, Ytr, Yte = train_test_split(X_new,Y,test_size=0.2)\n",
    "\n",
    "model = RandomForestClassifier(max_depth=11,n_estimators=100, random_state=0)\n",
    "model.fit(Xtr, Ytr)\n",
    "\n",
    "print(model.score(Xte, Yte))\n",
    "\n",
    "Xtes = np.genfromtxt('data/X_test.txt', delimiter=',')\n",
    "Xtea = []\n",
    "\n",
    "for a in top_features:\n",
    "    Xtea.append(Xtes[:,a])\n",
    "Xtea = np.asarray(Xtea).T\n",
    "\n",
    "\n",
    "one = 0\n",
    "pred=model.predict(Xtea)\n",
    "for i in pred:\n",
    "    if i == 1:\n",
    "        one+= 1\n",
    "print(\"ones\", one)\n",
    "print(\"total length\", len(pred))\n",
    "print(pred)"
   ]
  },
  {
   "cell_type": "code",
   "execution_count": 9,
   "metadata": {},
   "outputs": [],
   "source": [
    "results.append(model.predict(Xtea))"
   ]
  },
  {
   "cell_type": "markdown",
   "metadata": {},
   "source": [
    "## Neural Networks"
   ]
  },
  {
   "cell_type": "code",
   "execution_count": 9,
   "metadata": {},
   "outputs": [],
   "source": [
    "import pandas as pd\n",
    "import numpy as np\n",
    "import mltools as ml\n",
    "from sklearn.feature_selection import SelectKBest\n",
    "from sklearn.feature_selection import f_regression\n",
    "from sklearn.feature_selection import f_classif\n",
    "from sklearn.preprocessing import MinMaxScaler\n",
    "from sklearn import preprocessing\n",
    "from numpy import loadtxt"
   ]
  },
  {
   "cell_type": "code",
   "execution_count": 10,
   "metadata": {},
   "outputs": [],
   "source": [
    "X_data = pd.read_csv('data/X_train.txt')\n",
    "Y_data = pd.read_csv('data/Y_train.txt')\n",
    "\n",
    "\n",
    "scaler = MinMaxScaler()\n",
    "scaler.fit(X_data)\n",
    "scaler.transform(X_data)\n",
    "\n",
    "X = X_data.iloc[:,0:]\n",
    "Y = Y_data.iloc[:,-1]\n",
    "\n",
    "bestfeatures = SelectKBest(score_func=f_classif, k=\"all\" )\n",
    "fit = bestfeatures.fit(X,Y)\n",
    "dfscores = pd.DataFrame(fit.scores_)\n",
    "dfcolumns = pd.DataFrame(X.columns)\n",
    "featureScores = pd.concat([dfscores],axis=1)\n",
    "\n",
    "featureScores.columns = ['Score']  #naming the dataframe columns\n",
    "# Get top 60 features\n",
    "df = featureScores.nlargest(60,'Score')\n",
    "top_features = []\n",
    "for index, row in df.iterrows():\n",
    "    top_features.append(index)"
   ]
  },
  {
   "cell_type": "code",
   "execution_count": 11,
   "metadata": {},
   "outputs": [
    {
     "name": "stdout",
     "output_type": "stream",
     "text": [
      "it 2 : Jsur = 0.5074195881661516, J01 = 0.5044155066606796\n",
      "it 4 : Jsur = 0.5056808369562064, J01 = 0.5044155066606796\n",
      "it 8 : Jsur = 0.5001023219538492, J01 = 0.4955844933393205\n",
      "it 16 : Jsur = 0.5133625235730552, J01 = 0.4955844933393205\n",
      "it 32 : Jsur = 0.5042604932462735, J01 = 0.5044155066606796\n",
      "it 64 : Jsur = 0.5018451199176563, J01 = 0.5044155066606796\n",
      "it 128 : Jsur = 0.5202580723468303, J01 = 0.5044155066606796\n",
      "it 256 : Jsur = 0.506915946959941, J01 = 0.5044155066606796\n",
      "it 512 : Jsur = 0.5029643008865399, J01 = 0.4955844933393205\n",
      "it 1024 : Jsur = 0.4968511778485896, J01 = 0.48211345606945066\n",
      "it 2048 : Jsur = 0.4906158107503745, J01 = 0.45098039215686275\n",
      "it 4096 : Jsur = 0.4676784407437027, J01 = 0.39365364466397246\n",
      "it 8192 : Jsur = 0.46375137241585623, J01 = 0.3915581499775483\n",
      "it 16384 : Jsur = 0.4612737125909358, J01 = 0.38856458613979944\n",
      "it 32768 : Jsur = 0.4613580933741274, J01 = 0.3878161951803622\n",
      "Neural Network AUC:  0.6955933682373472\n"
     ]
    }
   ],
   "source": [
    "dataset_x = loadtxt('data/X_train.txt', delimiter=',')\n",
    "dataset_y = loadtxt('data/Y_train.txt')\n",
    "\n",
    "X = preprocessing.scale(dataset_x)\n",
    "\n",
    "top_x = []\n",
    "for val in top_features:\n",
    "    top_x.append(X[:,val:val+1])\n",
    "X = np.hstack(top_x)\n",
    "\n",
    "Xtr,Xva,Ytr,Yva=ml.splitData(X,dataset_y,.9)\n",
    "\n",
    "nnet = ml.nnet.nnetClassify() \n",
    "nnet.init_weights([Xtr.shape[1],1000,400,2],'random',X,dataset_y);\n",
    "nnet.train(Xtr,Ytr,stopTol=0.001,initStep=1.0,stopIter=2**15)\n",
    "\n",
    "print(\"Neural Network AUC: \",nnet.auc(Xva,Yva))"
   ]
  },
  {
   "cell_type": "code",
   "execution_count": 26,
   "metadata": {},
   "outputs": [],
   "source": [
    "Xte = loadtxt('data/X_test.txt', delimiter=',')\n",
    "Xte = preprocessing.scale(Xte)\n",
    "\n",
    "top_x = []\n",
    "for val in top_features:\n",
    "    top_x.append(Xte[:,val:val+1])\n",
    "Xte = np.hstack(top_x)\n",
    "Yte = nnet.predictSoft(Xte)[:,1]\n",
    "for i in range(len(Yte)):\n",
    "    Yte[i] = 1 if Yte[i] >= 0.5 else 0\n",
    "\n",
    "#Yte = np.vstack((np.arange(Xte.shape[0]), Yte)).T \n",
    "#np.savetxt('Y_neural_network.txt',Yte,'%d, %.2f',header='Id,Predicted',comments='',delimiter=',')"
   ]
  },
  {
   "cell_type": "code",
   "execution_count": 27,
   "metadata": {},
   "outputs": [],
   "source": [
    "results.append(Yte)"
   ]
  },
  {
   "cell_type": "markdown",
   "metadata": {},
   "source": [
    "# Decision Tree"
   ]
  },
  {
   "cell_type": "code",
   "execution_count": 28,
   "metadata": {},
   "outputs": [],
   "source": [
    "X_data = pd.read_csv('data/X_train.txt')\n",
    "Y_data = pd.read_csv('data/Y_train.txt')\n",
    "\n",
    "\n",
    "scaler = MinMaxScaler()\n",
    "scaler.fit(X_data)\n",
    "scaler.transform(X_data)\n",
    "\n",
    "X = X_data.iloc[:,0:]\n",
    "Y = Y_data.iloc[:,-1]\n",
    "\n",
    "bestfeatures = SelectKBest(score_func=f_classif, k=\"all\" )\n",
    "fit = bestfeatures.fit(X,Y)\n",
    "dfscores = pd.DataFrame(fit.scores_)\n",
    "dfcolumns = pd.DataFrame(X.columns)\n",
    "featureScores = pd.concat([dfscores],axis=1)\n",
    "\n",
    "featureScores.columns = ['Score']  #naming the dataframe columns\n",
    "# Get top 60 features\n",
    "df = featureScores.nlargest(60,'Score')\n",
    "top_features = []\n",
    "for index, row in df.iterrows():\n",
    "    top_features.append(index)"
   ]
  },
  {
   "cell_type": "code",
   "execution_count": null,
   "metadata": {},
   "outputs": [],
   "source": [
    "dataset_x = loadtxt('data/X_train.txt', delimiter=',')\n",
    "dataset_y = loadtxt('data/Y_train.txt')\n",
    "\n",
    "X = preprocessing.scale(dataset_x)\n",
    "\n",
    "top_x = []\n",
    "for val in top_features:\n",
    "    top_x.append(X[:,val:val+1])\n",
    "X = np.hstack(top_x)\n",
    "\n",
    "Xtr,Xva,Ytr,Yva=ml.splitData(X,dataset_y,.75)"
   ]
  },
  {
   "cell_type": "code",
   "execution_count": 31,
   "metadata": {},
   "outputs": [
    {
     "data": {
      "image/png": "[encoded data removed]",
      "text/plain": [
       "<Figure size 432x288 with 1 Axes>"
      ]
     },
     "metadata": {
      "needs_background": "light"
     },
     "output_type": "display_data"
    },
    {
     "name": "stdout",
     "output_type": "stream",
     "text": [
      "AUC: 0.691180383913247\n",
      "Error rate: 0.3793103448275862\n"
     ]
    }
   ],
   "source": [
    "import matplotlib.pyplot as plt\n",
    "\n",
    "learner = ml.dtree.treeClassify(Xtr, Ytr, maxDepth=7, minParent=1)\n",
    "ROC = learner.roc(Xva, Yva)\n",
    "plt.plot(ROC[0], ROC[1])\n",
    "plt.show()\n",
    "\n",
    "AUC = learner.auc(Xva, Yva)\n",
    "print('AUC: ' + str(AUC))\n",
    "print('Error rate: ' + str(learner.err(Xva,Yva)))"
   ]
  },
  {
   "cell_type": "code",
   "execution_count": 32,
   "metadata": {},
   "outputs": [],
   "source": [
    "Xte = np.genfromtxt('data/X_test.txt', delimiter=',')\n",
    "Yte = np.vstack((np.arange(Xte.shape[0]), learner.predictSoft(Xte)[:,1])).T\n",
    "# Output a file with two columns, a row ID and a confidence in class 1: \n",
    "np.savetxt('Y_submit.csv',Yte,'%d, %.2f',header='Id,Predicted',comments='',delimiter=',')"
   ]
  },
  {
   "cell_type": "code",
   "execution_count": 33,
   "metadata": {},
   "outputs": [
    {
     "data": {
      "text/plain": [
       "0.3086042751931022"
      ]
     },
     "execution_count": 33,
     "metadata": {},
     "output_type": "execute_result"
    }
   ],
   "source": [
    "learner.err(Xtr, Ytr)"
   ]
  },
  {
   "cell_type": "code",
   "execution_count": 34,
   "metadata": {},
   "outputs": [
    {
     "data": {
      "text/plain": [
       "0.3793103448275862"
      ]
     },
     "execution_count": 34,
     "metadata": {},
     "output_type": "execute_result"
    }
   ],
   "source": [
    "learner.err(Xva, Yva)"
   ]
  },
  {
   "cell_type": "markdown",
   "metadata": {},
   "source": [
    "# Putting it together"
   ]
  },
  {
   "cell_type": "code",
   "execution_count": 29,
   "metadata": {},
   "outputs": [],
   "source": [
    "predict_te = np.zeros((7422,4))\n",
    "\n",
    "for ct in range(4):\n",
    "    predict_te[:,ct] = results[ct]\n",
    "\n",
    "final_predict = []\n",
    "for i in predict_te:\n",
    "    final_predict.append(1 if np.mean(i) > 0.5 else 0)\n",
    "\n",
    "Yte = np.vstack((np.arange(7422),final_predict)).T\n",
    "\n",
    "np.savetxt('Y_submit2.txt',Yte,'%d,%.2f',header='Id,Predicted',comments='',delimiter=',')"
   ]
  }
 ],
 "metadata": {
  "kernelspec": {
   "display_name": "Python 3",
   "language": "python",
   "name": "python3"
  },
  "language_info": {
   "codemirror_mode": {
    "name": "ipython",
    "version": 3
   },
   "file_extension": ".py",
   "mimetype": "text/x-python",
   "name": "python",
   "nbconvert_exporter": "python",
   "pygments_lexer": "ipython3",
   "version": "3.8.3"
  }
 },
 "nbformat": 4,
 "nbformat_minor": 2
}
